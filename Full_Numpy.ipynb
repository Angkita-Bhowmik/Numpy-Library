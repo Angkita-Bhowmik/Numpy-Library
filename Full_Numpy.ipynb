{
  "nbformat": 4,
  "nbformat_minor": 0,
  "metadata": {
    "colab": {
      "provenance": [],
      "authorship_tag": "ABX9TyO1PxyPBSZbd1hwRKD0KPfz",
      "include_colab_link": true
    },
    "kernelspec": {
      "name": "python3",
      "display_name": "Python 3"
    },
    "language_info": {
      "name": "python"
    }
  },
  "cells": [
    {
      "cell_type": "markdown",
      "metadata": {
        "id": "view-in-github",
        "colab_type": "text"
      },
      "source": [
        "<a href=\"https://colab.research.google.com/github/Angkita-Bhowmik/Numpy-Library/blob/main/Full_Numpy.ipynb\" target=\"_parent\"><img src=\"https://colab.research.google.com/assets/colab-badge.svg\" alt=\"Open In Colab\"/></a>"
      ]
    },
    {
      "cell_type": "markdown",
      "source": [
        "#Welcome to Numpy"
      ],
      "metadata": {
        "id": "NoaZ5VqyNRkW"
      }
    },
    {
      "cell_type": "markdown",
      "source": [
        "##Array Creation from Lists and Tuples"
      ],
      "metadata": {
        "id": "76UvImwCNafd"
      }
    },
    {
      "cell_type": "code",
      "execution_count": 34,
      "metadata": {
        "id": "tBFqdFKYG5Q3"
      },
      "outputs": [],
      "source": [
        "import numpy as np"
      ]
    },
    {
      "cell_type": "code",
      "source": [
        "my_arr = np.array([3,2, 1, 7], np.int8) #np.int8 means 8 bit integer, it can be 32, 64 bit too"
      ],
      "metadata": {
        "id": "mDw9VTMTJQok"
      },
      "execution_count": 35,
      "outputs": []
    },
    {
      "cell_type": "code",
      "source": [
        "my_arr2 = np.array([[3,2, 1, 7]], np.int32) #double third bracket makes it a 2D array"
      ],
      "metadata": {
        "id": "xpbGr1_QKPbG"
      },
      "execution_count": 36,
      "outputs": []
    },
    {
      "cell_type": "code",
      "source": [
        "my_arr"
      ],
      "metadata": {
        "colab": {
          "base_uri": "https://localhost:8080/"
        },
        "id": "zYveeKhbJd3V",
        "outputId": "f4fd54e8-17f6-434c-9a39-59cdd8f406bb"
      },
      "execution_count": 37,
      "outputs": [
        {
          "output_type": "execute_result",
          "data": {
            "text/plain": [
              "array([3, 2, 1, 7], dtype=int8)"
            ]
          },
          "metadata": {},
          "execution_count": 37
        }
      ]
    },
    {
      "cell_type": "code",
      "source": [
        "my_arr2[0,1] #here we are calling 0th row, 1st column number from the array"
      ],
      "metadata": {
        "colab": {
          "base_uri": "https://localhost:8080/"
        },
        "id": "1TnmbsBlJgp6",
        "outputId": "2f1ff17f-40f2-426b-f72d-500fce4c6a24"
      },
      "execution_count": 38,
      "outputs": [
        {
          "output_type": "execute_result",
          "data": {
            "text/plain": [
              "2"
            ]
          },
          "metadata": {},
          "execution_count": 38
        }
      ]
    },
    {
      "cell_type": "code",
      "source": [
        "my_arr.shape #shape of the array\n",
        "my_arr. dtype #data type of the array\n",
        "my_arr2.shape\n",
        "my_arr2.dtype"
      ],
      "metadata": {
        "colab": {
          "base_uri": "https://localhost:8080/"
        },
        "id": "DcPIpyEhKanA",
        "outputId": "a5c7244b-b299-42d1-eb40-28aa965d7176"
      },
      "execution_count": 39,
      "outputs": [
        {
          "output_type": "execute_result",
          "data": {
            "text/plain": [
              "dtype('int32')"
            ]
          },
          "metadata": {},
          "execution_count": 39
        }
      ]
    },
    {
      "cell_type": "code",
      "source": [
        "my_arr2[0,1]= 55 #changing a number from the array"
      ],
      "metadata": {
        "id": "eA26DEKPK-D-"
      },
      "execution_count": 40,
      "outputs": []
    },
    {
      "cell_type": "code",
      "source": [
        "my_arr2"
      ],
      "metadata": {
        "colab": {
          "base_uri": "https://localhost:8080/"
        },
        "id": "JC5CHWRMMIsq",
        "outputId": "c99a1dbe-b633-4658-d538-b9e3bbf924e1"
      },
      "execution_count": 41,
      "outputs": [
        {
          "output_type": "execute_result",
          "data": {
            "text/plain": [
              "array([[ 3, 55,  1,  7]], dtype=int32)"
            ]
          },
          "metadata": {},
          "execution_count": 41
        }
      ]
    },
    {
      "cell_type": "code",
      "source": [
        "my_arr3 = np.array([[1,2,3], [4,5,6], [7,8,9]]) #2D array with 3 lists\n",
        "my_arr3"
      ],
      "metadata": {
        "colab": {
          "base_uri": "https://localhost:8080/"
        },
        "id": "A2-0dWorMRU7",
        "outputId": "40dcf732-77f6-4e27-c2fc-8d9a6e462b50"
      },
      "execution_count": 42,
      "outputs": [
        {
          "output_type": "execute_result",
          "data": {
            "text/plain": [
              "array([[1, 2, 3],\n",
              "       [4, 5, 6],\n",
              "       [7, 8, 9]])"
            ]
          },
          "metadata": {},
          "execution_count": 42
        }
      ]
    },
    {
      "cell_type": "code",
      "source": [
        "my_arr4 = np.array([(1,2,3), (4,5,6), (7,8,9)]) #2D array with 3 tuples\n",
        "my_arr4"
      ],
      "metadata": {
        "colab": {
          "base_uri": "https://localhost:8080/"
        },
        "id": "rq_A35MlOGub",
        "outputId": "13a08f51-039f-4c3d-b31b-ec472b277185"
      },
      "execution_count": 43,
      "outputs": [
        {
          "output_type": "execute_result",
          "data": {
            "text/plain": [
              "array([[1, 2, 3],\n",
              "       [4, 5, 6],\n",
              "       [7, 8, 9]])"
            ]
          },
          "metadata": {},
          "execution_count": 43
        }
      ]
    },
    {
      "cell_type": "markdown",
      "source": [
        "##Intrinsic numpy array creation objects"
      ],
      "metadata": {
        "id": "sJXSphafP5iO"
      }
    },
    {
      "cell_type": "code",
      "source": [
        "zeros = np.zeros((2,5)) #Creating an array of 2 rows and 5 columns consisting only zeros\n",
        "zeros"
      ],
      "metadata": {
        "colab": {
          "base_uri": "https://localhost:8080/"
        },
        "id": "AO5KMjxSTCkj",
        "outputId": "840a0d7d-86c1-4941-b882-cfdaa10ee785"
      },
      "execution_count": 45,
      "outputs": [
        {
          "output_type": "execute_result",
          "data": {
            "text/plain": [
              "array([[0., 0., 0., 0., 0.],\n",
              "       [0., 0., 0., 0., 0.]])"
            ]
          },
          "metadata": {},
          "execution_count": 45
        }
      ]
    },
    {
      "cell_type": "code",
      "source": [
        "zeros.dtype"
      ],
      "metadata": {
        "colab": {
          "base_uri": "https://localhost:8080/"
        },
        "id": "11jexb69TWP2",
        "outputId": "2058342b-6765-47c8-a5df-78210002e32e"
      },
      "execution_count": 46,
      "outputs": [
        {
          "output_type": "execute_result",
          "data": {
            "text/plain": [
              "dtype('float64')"
            ]
          },
          "metadata": {},
          "execution_count": 46
        }
      ]
    },
    {
      "cell_type": "code",
      "source": [
        "rng = np.arange(20) #20 numbers excluding 20\n",
        "rng"
      ],
      "metadata": {
        "colab": {
          "base_uri": "https://localhost:8080/"
        },
        "id": "Ml5Cl47ZTn7J",
        "outputId": "bd5bb4ed-b6c9-4f9b-9b3e-99b6c2304c68"
      },
      "execution_count": 49,
      "outputs": [
        {
          "output_type": "execute_result",
          "data": {
            "text/plain": [
              "array([ 0,  1,  2,  3,  4,  5,  6,  7,  8,  9, 10, 11, 12, 13, 14, 15, 16,\n",
              "       17, 18, 19])"
            ]
          },
          "metadata": {},
          "execution_count": 49
        }
      ]
    },
    {
      "cell_type": "code",
      "source": [
        "lspace = np.linspace(1, 10, 20) #giving 20 numbers between 1 to 10 in equal distance\n",
        "lspace"
      ],
      "metadata": {
        "colab": {
          "base_uri": "https://localhost:8080/"
        },
        "id": "tV0gwEDuT4LC",
        "outputId": "78b71c67-f1a8-4ef3-855f-ecd8a85d9a25"
      },
      "execution_count": 50,
      "outputs": [
        {
          "output_type": "execute_result",
          "data": {
            "text/plain": [
              "array([ 1.        ,  1.47368421,  1.94736842,  2.42105263,  2.89473684,\n",
              "        3.36842105,  3.84210526,  4.31578947,  4.78947368,  5.26315789,\n",
              "        5.73684211,  6.21052632,  6.68421053,  7.15789474,  7.63157895,\n",
              "        8.10526316,  8.57894737,  9.05263158,  9.52631579, 10.        ])"
            ]
          },
          "metadata": {},
          "execution_count": 50
        }
      ]
    },
    {
      "cell_type": "code",
      "source": [
        "emp = np.empty((2,5)) #creating an empty array which can be assigned numbers afterwards\n",
        "emp"
      ],
      "metadata": {
        "colab": {
          "base_uri": "https://localhost:8080/"
        },
        "id": "PYGoK0DHUMfN",
        "outputId": "95581632-d84a-40e6-eeff-052898279b66"
      },
      "execution_count": 53,
      "outputs": [
        {
          "output_type": "execute_result",
          "data": {
            "text/plain": [
              "array([[0., 0., 0., 0., 0.],\n",
              "       [0., 0., 0., 0., 0.]])"
            ]
          },
          "metadata": {},
          "execution_count": 53
        }
      ]
    },
    {
      "cell_type": "code",
      "source": [
        "emp_like = np.empty_like(lspace) #creating an empty array with the shape of lspace array\n",
        "emp_like"
      ],
      "metadata": {
        "colab": {
          "base_uri": "https://localhost:8080/"
        },
        "id": "HBrI2HhcVFo3",
        "outputId": "724aa731-95ee-4e1c-cbc2-e745a61a63af"
      },
      "execution_count": 55,
      "outputs": [
        {
          "output_type": "execute_result",
          "data": {
            "text/plain": [
              "array([ 1.        ,  1.47368421,  1.94736842,  2.42105263,  2.89473684,\n",
              "        3.36842105,  3.84210526,  4.31578947,  4.78947368,  5.26315789,\n",
              "        5.73684211,  6.21052632,  6.68421053,  7.15789474,  7.63157895,\n",
              "        8.10526316,  8.57894737,  9.05263158,  9.52631579, 10.        ])"
            ]
          },
          "metadata": {},
          "execution_count": 55
        }
      ]
    },
    {
      "cell_type": "code",
      "source": [
        "ide = np.identity(45) #creating an identity matrix of 45 rows and 45 columns\n",
        "ide"
      ],
      "metadata": {
        "colab": {
          "base_uri": "https://localhost:8080/"
        },
        "id": "pOfnfcS2VjBF",
        "outputId": "0506fda7-f898-4364-af37-2920d5f593bb"
      },
      "execution_count": 56,
      "outputs": [
        {
          "output_type": "execute_result",
          "data": {
            "text/plain": [
              "array([[1., 0., 0., ..., 0., 0., 0.],\n",
              "       [0., 1., 0., ..., 0., 0., 0.],\n",
              "       [0., 0., 1., ..., 0., 0., 0.],\n",
              "       ...,\n",
              "       [0., 0., 0., ..., 1., 0., 0.],\n",
              "       [0., 0., 0., ..., 0., 1., 0.],\n",
              "       [0., 0., 0., ..., 0., 0., 1.]])"
            ]
          },
          "metadata": {},
          "execution_count": 56
        }
      ]
    },
    {
      "cell_type": "code",
      "source": [
        "emp_like = emp_like.reshape(4,5) #reshaping the array"
      ],
      "metadata": {
        "id": "BNsuzncUVyh6"
      },
      "execution_count": 58,
      "outputs": []
    },
    {
      "cell_type": "code",
      "source": [
        "emp_like"
      ],
      "metadata": {
        "colab": {
          "base_uri": "https://localhost:8080/"
        },
        "id": "bUTfi9nmWQQs",
        "outputId": "2682de54-783a-4c46-8f93-f9794af05ccb"
      },
      "execution_count": 59,
      "outputs": [
        {
          "output_type": "execute_result",
          "data": {
            "text/plain": [
              "array([[ 1.        ,  1.47368421,  1.94736842,  2.42105263,  2.89473684],\n",
              "       [ 3.36842105,  3.84210526,  4.31578947,  4.78947368,  5.26315789],\n",
              "       [ 5.73684211,  6.21052632,  6.68421053,  7.15789474,  7.63157895],\n",
              "       [ 8.10526316,  8.57894737,  9.05263158,  9.52631579, 10.        ]])"
            ]
          },
          "metadata": {},
          "execution_count": 59
        }
      ]
    },
    {
      "cell_type": "code",
      "source": [
        "emp_like = emp_like.ravel() #ravels the array means makes it a 1D array again\n",
        "emp_like"
      ],
      "metadata": {
        "colab": {
          "base_uri": "https://localhost:8080/"
        },
        "id": "HKATi3j5WrU4",
        "outputId": "fca047c1-1fe8-47be-d144-ae66f02a47e5"
      },
      "execution_count": 61,
      "outputs": [
        {
          "output_type": "execute_result",
          "data": {
            "text/plain": [
              "array([ 1.        ,  1.47368421,  1.94736842,  2.42105263,  2.89473684,\n",
              "        3.36842105,  3.84210526,  4.31578947,  4.78947368,  5.26315789,\n",
              "        5.73684211,  6.21052632,  6.68421053,  7.15789474,  7.63157895,\n",
              "        8.10526316,  8.57894737,  9.05263158,  9.52631579, 10.        ])"
            ]
          },
          "metadata": {},
          "execution_count": 61
        }
      ]
    },
    {
      "cell_type": "code",
      "source": [
        "ones = np.ones(10) #Creates an array of 10 ones\n",
        "ones"
      ],
      "metadata": {
        "colab": {
          "base_uri": "https://localhost:8080/"
        },
        "id": "ZMeBJl5dWxke",
        "outputId": "52b43946-4b1c-46cb-8fe0-7d7e79497068"
      },
      "execution_count": 63,
      "outputs": [
        {
          "output_type": "execute_result",
          "data": {
            "text/plain": [
              "array([1., 1., 1., 1., 1., 1., 1., 1., 1., 1.])"
            ]
          },
          "metadata": {},
          "execution_count": 63
        }
      ]
    },
    {
      "cell_type": "code",
      "source": [
        "np.sqrt(my_arr3) #Square Root of each element in the array"
      ],
      "metadata": {
        "colab": {
          "base_uri": "https://localhost:8080/"
        },
        "id": "b4714YMqeaFs",
        "outputId": "684d1bf3-5a9d-42b6-982f-712f0d6abde7"
      },
      "execution_count": 94,
      "outputs": [
        {
          "output_type": "execute_result",
          "data": {
            "text/plain": [
              "array([[1.        , 1.41421356, 1.73205081],\n",
              "       [2.        , 2.23606798, 2.44948974],\n",
              "       [2.64575131, 2.82842712, 3.        ]])"
            ]
          },
          "metadata": {},
          "execution_count": 94
        }
      ]
    },
    {
      "cell_type": "markdown",
      "source": [
        "##Numpy Axis"
      ],
      "metadata": {
        "id": "Z-BVJHgpYYym"
      }
    },
    {
      "cell_type": "code",
      "source": [
        "X = np.array([[1,2,3], [4,5,6], [7,1,0]])\n",
        "X"
      ],
      "metadata": {
        "colab": {
          "base_uri": "https://localhost:8080/"
        },
        "id": "JKO-M4n-YbN_",
        "outputId": "ee519e82-0240-4248-ebc6-9af258f5b7a5"
      },
      "execution_count": 64,
      "outputs": [
        {
          "output_type": "execute_result",
          "data": {
            "text/plain": [
              "array([[1, 2, 3],\n",
              "       [4, 5, 6],\n",
              "       [7, 1, 0]])"
            ]
          },
          "metadata": {},
          "execution_count": 64
        }
      ]
    },
    {
      "cell_type": "code",
      "source": [
        "X.sum (axis=0) #sum of all the columns"
      ],
      "metadata": {
        "colab": {
          "base_uri": "https://localhost:8080/"
        },
        "id": "egZNFn3GYmaQ",
        "outputId": "9d016aa2-aca4-45d2-9ec8-78357aab41f3"
      },
      "execution_count": 65,
      "outputs": [
        {
          "output_type": "execute_result",
          "data": {
            "text/plain": [
              "array([12,  8,  9])"
            ]
          },
          "metadata": {},
          "execution_count": 65
        }
      ]
    },
    {
      "cell_type": "code",
      "source": [
        "X.sum (axis=1) #sum of all the rows"
      ],
      "metadata": {
        "colab": {
          "base_uri": "https://localhost:8080/"
        },
        "id": "yW8VBz0IYs1n",
        "outputId": "53288d10-d41c-45d9-d614-7fbb90939612"
      },
      "execution_count": 67,
      "outputs": [
        {
          "output_type": "execute_result",
          "data": {
            "text/plain": [
              "array([ 6, 15,  8])"
            ]
          },
          "metadata": {},
          "execution_count": 67
        }
      ]
    },
    {
      "cell_type": "code",
      "source": [
        "X.T #Transpose of the array"
      ],
      "metadata": {
        "colab": {
          "base_uri": "https://localhost:8080/"
        },
        "id": "ECZ96gbGY02R",
        "outputId": "6757c107-6c4c-4588-c6b4-74141a4cae93"
      },
      "execution_count": 69,
      "outputs": [
        {
          "output_type": "execute_result",
          "data": {
            "text/plain": [
              "array([[1, 4, 7],\n",
              "       [2, 5, 1],\n",
              "       [3, 6, 0]])"
            ]
          },
          "metadata": {},
          "execution_count": 69
        }
      ]
    },
    {
      "cell_type": "code",
      "source": [
        "X.flat #flats the numbers in that array"
      ],
      "metadata": {
        "colab": {
          "base_uri": "https://localhost:8080/"
        },
        "id": "pLTculz6ZDha",
        "outputId": "da339c8e-5027-408c-997e-486e8ca62038"
      },
      "execution_count": 72,
      "outputs": [
        {
          "output_type": "execute_result",
          "data": {
            "text/plain": [
              "<numpy.flatiter at 0x655bad0>"
            ]
          },
          "metadata": {},
          "execution_count": 72
        }
      ]
    },
    {
      "cell_type": "code",
      "source": [
        "for item in X.flat:\n",
        "  print(item)"
      ],
      "metadata": {
        "colab": {
          "base_uri": "https://localhost:8080/"
        },
        "id": "qcwUOuTWZiCQ",
        "outputId": "043c4de2-a633-4004-ad1c-fc9745853ee0"
      },
      "execution_count": 73,
      "outputs": [
        {
          "output_type": "stream",
          "name": "stdout",
          "text": [
            "1\n",
            "2\n",
            "3\n",
            "4\n",
            "5\n",
            "6\n",
            "7\n",
            "1\n",
            "0\n"
          ]
        }
      ]
    },
    {
      "cell_type": "code",
      "source": [
        "X.ndim #Number of dimensions"
      ],
      "metadata": {
        "colab": {
          "base_uri": "https://localhost:8080/"
        },
        "id": "gkjcedpiZmRG",
        "outputId": "dc7ef7b3-e14a-4ef4-c33c-975eb6e5254c"
      },
      "execution_count": 77,
      "outputs": [
        {
          "output_type": "execute_result",
          "data": {
            "text/plain": [
              "2"
            ]
          },
          "metadata": {},
          "execution_count": 77
        }
      ]
    },
    {
      "cell_type": "code",
      "source": [
        "X.argmax() #Maximum value holding index"
      ],
      "metadata": {
        "colab": {
          "base_uri": "https://localhost:8080/"
        },
        "id": "7urHVNaLZxUN",
        "outputId": "f5399a97-9874-4b68-aed6-76ed9729d9fd"
      },
      "execution_count": 82,
      "outputs": [
        {
          "output_type": "execute_result",
          "data": {
            "text/plain": [
              "6"
            ]
          },
          "metadata": {},
          "execution_count": 82
        }
      ]
    },
    {
      "cell_type": "code",
      "source": [
        "X.argmin() #Minimum value holding index"
      ],
      "metadata": {
        "colab": {
          "base_uri": "https://localhost:8080/"
        },
        "id": "oQlgYxfCafXC",
        "outputId": "584cb33c-21d1-407b-e39f-38a8d98c788b"
      },
      "execution_count": 83,
      "outputs": [
        {
          "output_type": "execute_result",
          "data": {
            "text/plain": [
              "8"
            ]
          },
          "metadata": {},
          "execution_count": 83
        }
      ]
    },
    {
      "cell_type": "code",
      "source": [
        "X.argsort() #Sorting the indeces of the numbers from small to larger"
      ],
      "metadata": {
        "colab": {
          "base_uri": "https://localhost:8080/"
        },
        "id": "JTT0j917anXb",
        "outputId": "79440203-79cf-4d80-a463-9933c3c44c39"
      },
      "execution_count": 84,
      "outputs": [
        {
          "output_type": "execute_result",
          "data": {
            "text/plain": [
              "array([[0, 1, 2],\n",
              "       [0, 1, 2],\n",
              "       [2, 1, 0]])"
            ]
          },
          "metadata": {},
          "execution_count": 84
        }
      ]
    },
    {
      "cell_type": "code",
      "source": [
        "X.argmax(axis=0) #Sorting the indeces of the numbers from small to larger in rows"
      ],
      "metadata": {
        "colab": {
          "base_uri": "https://localhost:8080/"
        },
        "id": "Gqt2seK3bGDv",
        "outputId": "b100757f-9d63-404d-9d5a-c607095702d5"
      },
      "execution_count": 89,
      "outputs": [
        {
          "output_type": "execute_result",
          "data": {
            "text/plain": [
              "array([2, 1, 1])"
            ]
          },
          "metadata": {},
          "execution_count": 89
        }
      ]
    },
    {
      "cell_type": "code",
      "source": [
        "X.argsort(axis=1) #Sorting the indeces of the numbers from small to larger in columns"
      ],
      "metadata": {
        "colab": {
          "base_uri": "https://localhost:8080/"
        },
        "id": "BDro-gfdbrlv",
        "outputId": "29d62611-2643-44a3-cbb9-14594f7eeebc"
      },
      "execution_count": 88,
      "outputs": [
        {
          "output_type": "execute_result",
          "data": {
            "text/plain": [
              "array([[0, 1, 2],\n",
              "       [0, 1, 2],\n",
              "       [2, 1, 0]])"
            ]
          },
          "metadata": {},
          "execution_count": 88
        }
      ]
    },
    {
      "cell_type": "markdown",
      "source": [
        "##Matrix operations through Numpy"
      ],
      "metadata": {
        "id": "V3y70n7Hd1WU"
      }
    },
    {
      "cell_type": "code",
      "source": [
        "X * my_arr3"
      ],
      "metadata": {
        "colab": {
          "base_uri": "https://localhost:8080/"
        },
        "id": "7EFtdQFgd7TQ",
        "outputId": "6a56325f-c5e2-4c38-aedd-01ce8198e12a"
      },
      "execution_count": 90,
      "outputs": [
        {
          "output_type": "execute_result",
          "data": {
            "text/plain": [
              "array([[ 1,  4,  9],\n",
              "       [16, 25, 36],\n",
              "       [49,  8,  0]])"
            ]
          },
          "metadata": {},
          "execution_count": 90
        }
      ]
    },
    {
      "cell_type": "code",
      "source": [
        "X + my_arr3"
      ],
      "metadata": {
        "colab": {
          "base_uri": "https://localhost:8080/"
        },
        "id": "HOgcRJ5beG2b",
        "outputId": "406cc0dd-105f-4b43-ec35-01b5448d41e1"
      },
      "execution_count": 91,
      "outputs": [
        {
          "output_type": "execute_result",
          "data": {
            "text/plain": [
              "array([[ 2,  4,  6],\n",
              "       [ 8, 10, 12],\n",
              "       [14,  9,  9]])"
            ]
          },
          "metadata": {},
          "execution_count": 91
        }
      ]
    },
    {
      "cell_type": "code",
      "source": [
        "X - my_arr3"
      ],
      "metadata": {
        "colab": {
          "base_uri": "https://localhost:8080/"
        },
        "id": "31W4Uwj0eJHA",
        "outputId": "7d71f803-a752-44b6-b6cd-4970619335ba"
      },
      "execution_count": 92,
      "outputs": [
        {
          "output_type": "execute_result",
          "data": {
            "text/plain": [
              "array([[ 0,  0,  0],\n",
              "       [ 0,  0,  0],\n",
              "       [ 0, -7, -9]])"
            ]
          },
          "metadata": {},
          "execution_count": 92
        }
      ]
    },
    {
      "cell_type": "code",
      "source": [],
      "metadata": {
        "id": "DNnqxcYSeL5S"
      },
      "execution_count": null,
      "outputs": []
    }
  ]
}